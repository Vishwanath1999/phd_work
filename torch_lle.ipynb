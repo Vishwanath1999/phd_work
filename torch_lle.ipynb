{
 "cells": [
  {
   "cell_type": "code",
   "execution_count": 1,
   "metadata": {},
   "outputs": [],
   "source": [
    "import torch\n",
    "import numpy as np\n",
    "from scipy.io import loadmat, savemat\n",
    "from scipy import constants as cts\n",
    "from tqdm import tqdm\n",
    "from ipywidgets import interact, widgets\n",
    "import matplotlib.pyplot as plt\n",
    "import pandas as pd\n",
    "%matplotlib inline\n",
    "\n",
    "\n",
    "device = torch.device('cuda' if torch.cuda.is_available() else 'cpu')\n",
    "\n",
    "disp = loadmat('disp.mat')\n",
    "res = loadmat('res.mat')\n",
    "sim = loadmat('sim.mat')\n",
    "\n",
    "# df = pd.read_csv('./DKS_init.csv')\n",
    "# df[\"DKS_init\"] = df.DKS_init.apply(lambda val: complex(val.strip('()')))\n",
    "# δω = df.det.values[0] * 2*np.pi\n",
    "# DKS_init = df.DKS_init.values\n",
    "\n",
    "\n",
    "\n",
    "sim['DKS_init'] = np.array([complex(x.strip()) for x in sim['DKS_init']])\n",
    "\n",
    "# Convert the complex numbers to np.complex64\n",
    "sim['DKS_init'] = sim['DKS_init'].astype(np.complex128)\n",
    "\n",
    "tol = 1e-3\n",
    "max_iter = 10\n",
    "step_factor = 0.1\n",
    "\n",
    "c0 = 299792458\n",
    "h_bar = cts.hbar"
   ]
  },
  {
   "cell_type": "code",
   "execution_count": 2,
   "metadata": {},
   "outputs": [],
   "source": [
    "# myDKS = loadmat('My_DKS_init_multi2.mat')\n",
    "# sim['DKS_init'] =  myDKS['DKS_init'][0]\n",
    "\n",
    "# sim['domega_init'] = myDKS['detuning']\n",
    "# sim['domega_end'] = myDKS['detuning']"
   ]
  },
  {
   "cell_type": "code",
   "execution_count": 3,
   "metadata": {},
   "outputs": [],
   "source": [
    "# write a function that converts the dictorionary to a tensor. Drop the first 3 keys\n",
    "def dict_to_tensor(dic):\n",
    "    dic.pop('__header__', None)\n",
    "    dic.pop('__version__', None)\n",
    "    dic.pop('__globals__', None)\n",
    "    dic.pop('dispfile', None)\n",
    "\n",
    "    tensor_dic = dict()\n",
    "    # convert the dictionary to a tensor\n",
    "    for key in dic:\n",
    "        if isinstance(dic[key], np.ndarray):\n",
    "            if key == 'DKS_init':\n",
    "                tensor_dic[key] = torch.tensor(dic[key], device=device, dtype=torch.complex64)\n",
    "            else:\n",
    "                dic[key] = np.where(dic[key] == 'None', None, dic[key])\n",
    "                dic[key] = dic[key].astype(np.float64)\n",
    "                tensor_dic[key] = torch.tensor(dic[key], device=device)\n",
    "        else:\n",
    "            tensor_dic[key] = dic[key]\n",
    "    return tensor_dic\n",
    "\n",
    "def tensor_to_dict(tensor):\n",
    "    dic = dict()\n",
    "    for key in tensor:\n",
    "        # print(key)\n",
    "        if isinstance(tensor[key], torch.Tensor):\n",
    "            if tensor[key].dtype == torch.complex128:\n",
    "                dic[key] = tensor[key].cpu().numpy().astype(np.complex128)\n",
    "            else:   \n",
    "                dic[key] = tensor[key].cpu().numpy().astype(np.float64)\n",
    "        else:\n",
    "            dic[key] = tensor[key]\n",
    "    return dic\n",
    "\n",
    "disp_tensor = dict_to_tensor(disp)\n",
    "res_tensor = dict_to_tensor(res)\n",
    "sim.pop('domega', None)\n",
    "sim['domega'] = np.array(['None',0])\n",
    "sim_tensor = dict_to_tensor(sim)"
   ]
  },
  {
   "cell_type": "code",
   "execution_count": 4,
   "metadata": {},
   "outputs": [],
   "source": [
    "disp_tensor['D1'] = disp_tensor['D1'][0]\n",
    "disp_tensor['FSR'] = disp_tensor['FSR'][0]\n",
    "disp_tensor['FSR_center'] = disp_tensor['FSR_center'][0]\n",
    "\n",
    "for key in res_tensor:\n",
    "    res_tensor[key] = res_tensor[key][0]\n",
    "\n",
    "# if ndim>1 then squeeze the tensor\n",
    "for key in sim_tensor:\n",
    "    if sim_tensor[key].ndim > 1:\n",
    "        sim_tensor[key] = sim_tensor[key][0]"
   ]
  },
  {
   "cell_type": "code",
   "execution_count": 5,
   "metadata": {},
   "outputs": [],
   "source": [
    "ng = disp_tensor['ng']\n",
    "R = res_tensor['R']\n",
    "gamma = res_tensor['gamma']\n",
    "L = 2*torch.pi*R\n",
    "# print all shapes\n",
    "# print('ng:', ng.shape)\n",
    "# print('R:', R.shape)\n",
    "# print('gamma:', gamma.shape)\n",
    "# %%\n",
    "Q0 = res_tensor['Qi']\n",
    "Qc = res_tensor['Qc']\n",
    "fpmp = sim_tensor['f_pmp']\n",
    "# Ppmp = sim_tensor['Pin']\n",
    "Ppmp = torch.tensor([0.16], dtype=torch.float64)\n",
    "phi_pmp = sim_tensor['phi_pmp']\n",
    "num_probe = sim_tensor['num_probe']\n",
    "# num_probe = num_probe[0].cpu().numpy().astype(int)\n",
    "num_probe = 5000\n",
    "fcenter = sim_tensor['f_center']\n",
    "\n",
    "DKSinit_real = torch.real(sim_tensor['DKS_init'])\n",
    "if sim_tensor['DKS_init'].dtype == torch.complex128 or sim_tensor['DKS_init'].dtype == torch.complex64:\n",
    "    DKSinit_imag = torch.imag(sim_tensor['DKS_init'])\n",
    "else:\n",
    "    DKSinit_imag = torch.zeros_like(DKSinit_real, device=device)"
   ]
  },
  {
   "cell_type": "code",
   "execution_count": 6,
   "metadata": {},
   "outputs": [],
   "source": [
    "DKS_init = torch.complex(DKSinit_real, DKSinit_imag)\n",
    "\n",
    "D1 = disp_tensor['D1']\n",
    "FSR = D1/(2*torch.pi)\n",
    "omega0 = 2*torch.pi*fpmp\n",
    "omega_center = 2*torch.pi*fcenter\n",
    "\n",
    "tR = 1/FSR\n",
    "T = 1*tR\n",
    "kext = (omega0[0]/Qc) * tR\n",
    "k0 = (omega0[0]/Q0) * tR\n",
    "alpha = k0+kext\n",
    "\n",
    "del_omega_init = sim_tensor['domega_init']\n",
    "del_omega_end = sim_tensor['domega_end']\n",
    "del_omega_stop = sim_tensor['domega_stop']\n",
    "ind_sweep = sim_tensor['ind_pump_sweep'] \n",
    "t_end = sim_tensor['Tscan']\n",
    "Dint = disp_tensor['Dint_new']#[0]"
   ]
  },
  {
   "cell_type": "code",
   "execution_count": 7,
   "metadata": {},
   "outputs": [],
   "source": [
    "del_omega = sim['domega']\n",
    "ind_pmp = [ii for ii in sim_tensor['ind_pmp'].int().cpu().numpy()]    \n",
    "mu_sim = sim_tensor['mucenter']\n",
    "mu = torch.arange(mu_sim[0], mu_sim[1]+1, device=device)\n",
    "# find center of mu\n",
    "mu0 = torch.where(mu == 0)[0][0].int().cpu().numpy()+1\n",
    "\n",
    "d_omega = 2*torch.pi*FSR * torch.arange(mu_sim[0], mu_sim[-1]+1, device=device)\n",
    "domega_pmp1 = 2*torch.pi*FSR * torch.arange(mu_sim[0]-ind_pmp[0]-1, mu_sim[-1]-ind_pmp[0], device=device)\n",
    "omega1 = omega0[0] + domega_pmp1\n",
    "\n",
    "Dint = Dint-Dint[mu0-1]\n",
    "\n",
    "Ptot = 0#torch.zeros(1, device=device)\n",
    "for ii in range(len(fpmp)):\n",
    "    Ptot += Ppmp[ii]\n",
    "\n",
    "dt = 1\n",
    "t_end = t_end*tR\n",
    "t_ramp = t_end"
   ]
  },
  {
   "cell_type": "code",
   "execution_count": 8,
   "metadata": {},
   "outputs": [],
   "source": [
    "Nt = torch.round(t_ramp/tR/dt)[0].int()\n",
    "theta = torch.linspace(0, 2*torch.pi, len(mu), device=device)\n",
    "del_omega_tot = torch.abs(del_omega_end)+torch.abs(del_omega_init)\n",
    "del_omega_perc = -1*torch.sign(del_omega_end+del_omega_init)*(torch.abs(del_omega_end+del_omega_init)/2)/del_omega_tot\n",
    "t_sim = torch.linspace(-t_ramp[0]/2 + del_omega_perc[0]*t_ramp[0], t_ramp[0]/2 + del_omega_perc[0]*t_ramp[0], Nt, device=device, dtype=torch.float64)\n",
    "\n",
    "# xx = torch.arange(0,Nt, device=device)\n",
    "del_omega_all = torch.ones(len(fpmp), Nt, device=device, dtype=torch.float64)\n",
    "# ind_sweep = ind_sweep.cpu().numpy().int()\n",
    "if del_omega_init == del_omega_end:\n",
    "    Nt = 200000\n",
    "    del_omega_all = del_omega_init*torch.ones(len(fpmp), Nt, device=device, dtype=torch.float64)\n",
    "else:\n",
    "    xx = torch.arange(1,Nt+1, device=device)\n",
    "    for ii in ind_sweep.cpu().numpy().astype(int):\n",
    "        # del_omega_all[ii,:] = torch.linspace(del_omega_init[0], del_omega_end[0], Nt)\n",
    "        del_omega_all[ii,:] = del_omega_init + xx/Nt * (del_omega_end - del_omega_init)"
   ]
  },
  {
   "cell_type": "code",
   "execution_count": 9,
   "metadata": {},
   "outputs": [],
   "source": [
    "# def Noise():\n",
    "#     Ephoton = torch.tensor(h_bar)*omega1\n",
    "#     phase = 2*torch.pi*torch.rand(len(mu),1, device=device)\n",
    "#     array = torch.rand(len(mu),1, device=device)\n",
    "#     Enoise = array*torch.sqrt(Ephoton/2)*torch.exp(1j*phase)*len(mu)\n",
    "#     return torch.fft.ifftshift(torch.fft.ifft(Enoise))\n",
    "\n",
    "@torch.jit.script\n",
    "def Noise(h_bar: float, omega1: torch.Tensor, mu_len: int, device: torch.device) -> torch.Tensor:\n",
    "    Ephoton = torch.tensor(h_bar, device=device) * omega1\n",
    "    phase = 2 * torch.pi * torch.rand(mu_len,  device=device)\n",
    "    array = torch.rand(mu_len,  device=device)\n",
    "    Enoise = array * torch.sqrt(Ephoton / 2) * torch.exp(1j * phase) * mu_len\n",
    "    return torch.fft.ifftshift(torch.fft.ifft(Enoise)).squeeze()\n",
    "\n",
    "# fpmp = fpmp[0]\n",
    "Ain = torch.zeros(len(fpmp), len(mu),dtype=torch.complex128, device=device)\n",
    "Ein = torch.zeros(len(fpmp), len(mu),dtype=torch.complex128, device=device)\n",
    "\n",
    "for ii in range(len(fpmp)):\n",
    "    Ein[ii,int(mu0+ind_pmp[ii])] = torch.sqrt(Ppmp[ii])*len(mu)\n",
    "    Ain[ii] = torch.fft.ifft(torch.fft.fftshift(Ein[ii],dim=0),dim=0)*torch.exp(-1j*phi_pmp[ii])\n",
    "\n",
    "# u0 = torch.zeros(len(mu) , dtype=torch.complex128, device=device)\n",
    "u0 = DKS_init"
   ]
  },
  {
   "cell_type": "code",
   "execution_count": 10,
   "metadata": {},
   "outputs": [],
   "source": [
    "saved_data = dict()\n",
    "\n",
    "saved_data['u_probe'] = torch.zeros(num_probe, len(u0), dtype=torch.complex128, device=device)\n",
    "saved_data['driving_force'] = torch.zeros(num_probe, len(u0), dtype=torch.complex128, device=device)\n",
    "saved_data['detuning'] = torch.zeros(num_probe, device=device)\n",
    "saved_data['t_sim'] = torch.zeros(num_probe, device=device)\n",
    "saved_data['kappa_ext'] = kext\n",
    "saved_data['kappa_0'] = k0\n",
    "saved_data['alpha'] = alpha\n",
    "\n",
    "# dint2 = loadmat('dint.mat')['dint'][:,0]\n",
    "# Dint_shift = torch.Tensor(dint2, device=device, dtype=torch.complex128)\n",
    "Dint_shift = torch.fft.ifftshift(Dint)\n",
    "# %%\n",
    "def Fdrive(it):\n",
    "    Force = torch.zeros(len(mu), device=device, dtype=torch.complex128)\n",
    "    for ii in range(len(fpmp)):\n",
    "        if ii > 0:\n",
    "            sigma = (2*del_omega_all[ii,it] + Dint[(mu0)+ind_pmp[ii]] - 0.5*del_omega_all[0,it])*t_sim[it]\n",
    "        else:\n",
    "            sigma=torch.zeros(1, device=device)\n",
    "        Force = Force - 1j*Ain[ii]*torch.exp(1j*sigma)\n",
    "    return Force # + Noise(h_bar, omega1, int(len(mu)), device)\n",
    "\n",
    "# def Fdrive_all(t_sim1=None):\n",
    "#     if t_sim1 is not None:\n",
    "#         t_sim = t_sim1\n",
    "#     Force = 0*torch.exp(1j*theta)\n",
    "#     Force = Force.unsqueeze(1).repeat(Nt,1).T\n",
    "#     for ii in range(len(fpmp)):\n",
    "#         if ii > 0:\n",
    "#             sigma = (2*del_omega_all[ii,:] + Dint[(mu0-1)+ind_pmp[ii]] - 0.5*del_omega_all[0,:])*t_sim\n",
    "#             print(sigma.shape)\n",
    "#         else:\n",
    "#             sigma=torch.zeros(1, device=device)\n",
    "#             print(Ain[ii].unsqueeze(1).shape,torch.exp(1j*sigma).unsqueeze(0).shape)\n",
    "#         Force = Force - 1j*Ain[ii].unsqueeze(1)*torch.exp(1j*sigma).unsqueeze(0)\n",
    "#     return Force #+ Noise()[0]\n",
    "\n",
    "def SaveStatus_Callback(it, saved_data, u0, param):\n",
    "    # if it*num_probe/Nt > param['probe']:\n",
    "    saved_data['u_probe'][param['probe'],:] = u0\n",
    "    saved_data['detuning'][param['probe']] = del_omega_all[0][it]\n",
    "    saved_data['t_sim'][param['probe']] = t_sim[it]\n",
    "    saved_data['driving_force'][param['probe'],:] = Fdrive(it)\n",
    "    param['probe'] += 1\n",
    "    return param\n",
    "\n",
    "def SaveData(saved_data, name=None):\n",
    "    saved_data_numpy = tensor_to_dict(saved_data)\n",
    "    if name is None:\n",
    "        savemat('SSFM_half_data.mat', saved_data_numpy)\n",
    "    else:\n",
    "        savemat(name, saved_data_numpy)"
   ]
  },
  {
   "cell_type": "code",
   "execution_count": 11,
   "metadata": {},
   "outputs": [],
   "source": [
    "tol = 1e-3\n",
    "max_iter = 10\n",
    "success = False\n",
    "\n",
    "L_h_prop = torch.zeros(len(mu), dtype=torch.complex128, device=device)\n",
    "A_L_h_prop = torch.zeros(len(mu), dtype=torch.complex128, device=device)\n",
    "NL_h_prop = torch.zeros(len(mu), dtype=torch.complex128, device=device)\n",
    "A_h_prop = torch.zeros(len(mu), dtype=torch.complex128, device=device)\n",
    "A_prop = torch.zeros(len(mu), dtype=torch.complex128, device=device)\n",
    "NL_h_prop_1 = torch.zeros(len(mu), dtype=torch.complex128, device=device)\n",
    "NL_prop = torch.zeros(len(mu), dtype=torch.complex128, device=device)\n",
    "Force = torch.zeros(len(mu), dtype=torch.complex128, device=device)"
   ]
  },
  {
   "cell_type": "code",
   "execution_count": 12,
   "metadata": {},
   "outputs": [],
   "source": [
    "@torch.jit.script\n",
    "def FFT_Lin(it: int, alpha: torch.Tensor, Dint_shift: torch.Tensor, del_omega_all: torch.Tensor, tR: torch.Tensor) -> torch.Tensor:\n",
    "    '''\n",
    "    Linear operator\n",
    "    Input:\n",
    "        it (int) : Time index\n",
    "        alpha (torch.Tensor) : Linewidth enhancement factor\n",
    "        Dint_shift (torch.Tensor) : Dispersive operator\n",
    "        del_omega_all (torch.Tensor) : Detuning\n",
    "        tR (torch.Tensor) : Round trip time\n",
    "    Output:\n",
    "        torch.Tensor : Linear operator\n",
    "    '''\n",
    "    return (-alpha / 2) + 1j * (Dint_shift - del_omega_all[0, it]) * tR\n",
    "\n",
    "\n",
    "# Function for the Nonlinear operator\n",
    "@torch.jit.script\n",
    "def NL(uu: torch.Tensor, gamma: torch.Tensor, L: torch.Tensor) -> torch.Tensor:\n",
    "    '''\n",
    "    Nonlinear operator\n",
    "    Input:\n",
    "        uu (torch.Tensor) : Input field\n",
    "        gamma (torch.Tensor) : Nonlinear coefficient\n",
    "        L (torch.Tensor) : Length of the resonator\n",
    "    Output:\n",
    "        torch.Tensor : Nonlinear operator\n",
    "    '''\n",
    "    return -1j * (gamma * L * torch.square(torch.abs(uu)) )"
   ]
  },
  {
   "cell_type": "code",
   "execution_count": 13,
   "metadata": {},
   "outputs": [],
   "source": [
    "@torch.jit.script\n",
    "def ssfm_step(A0: torch.Tensor, it: int, alpha: torch.Tensor, Dint_shift: torch.Tensor,\n",
    "              del_omega_all: torch.Tensor, tR: torch.Tensor, gamma: torch.Tensor, L: torch.Tensor, \n",
    "              max_iter: int, tol: float, dt: int, kext: torch.Tensor, Fdrive_val:torch.Tensor, A_prop:torch.Tensor) -> torch.Tensor:\n",
    "    \n",
    "    A0 = A0 + Fdrive_val * torch.sqrt(kext) * dt\n",
    "    L_h_prop = torch.exp(FFT_Lin(it, alpha, Dint_shift, del_omega_all, tR) * dt / 2)\n",
    "    A_L_h_prop = torch.fft.ifft(torch.fft.fft(A0) * L_h_prop)\n",
    "    NL_h_prop_0 = NL(A0, gamma, L)\n",
    "    A_h_prop = A0#.clone()\n",
    "    A_prop = 0*A0.clone()\n",
    "    # torch.zeros_like(A0, dtype=torch.complex128, device=A0.device)\n",
    "\n",
    "    for _ in range(max_iter):\n",
    "        err=0\n",
    "        NL_h_prop_1 = NL(A_h_prop, gamma, L)\n",
    "        NL_prop = (NL_h_prop_0 + NL_h_prop_1) * dt / 2\n",
    "        A_prop = torch.fft.ifft(torch.fft.fft(A_L_h_prop * torch.exp(NL_prop)) * L_h_prop)\n",
    "        err = torch.linalg.vector_norm(A_prop - A_h_prop, ord=2, dim=0) / torch.linalg.vector_norm(A_h_prop, ord=2, dim=0)\n",
    "        if err < tol:\n",
    "            return A_prop\n",
    "        A_h_prop = A_prop\n",
    "    err = torch.linalg.vector_norm(A_prop - A_h_prop, ord=2, dim=0) / torch.linalg.vector_norm(A_h_prop, ord=2, dim=0)\n",
    "    raise RuntimeError(f\"Convergence Error: {err}\")\n",
    "\n",
    "def MainSolver(Nt, saved_data, u0, name=None):\n",
    "    param = dict()\n",
    "    param['tol'] = 1e-3\n",
    "    param['max_iter'] = max_iter\n",
    "    param['step_factor'] = 0.1\n",
    "    param['probe'] = 0\n",
    "\n",
    "    for it in tqdm(range(Nt), ncols=120):\n",
    "        Fdrive_val = Fdrive(it)\n",
    "        u0 = ssfm_step(u0, it, alpha, Dint_shift, del_omega_all, tR, gamma, L, \n",
    "                       max_iter, tol, dt, kext, Fdrive_val, A_prop)\n",
    "        if it*num_probe/Nt > param['probe']:\n",
    "            param = SaveStatus_Callback(it, saved_data, u0, param)\n",
    "    SaveData(saved_data,name)"
   ]
  },
  {
   "cell_type": "code",
   "execution_count": 15,
   "metadata": {},
   "outputs": [
    {
     "data": {
      "image/png": "[encoded data removed]",
      "text/plain": [
       "<Figure size 1000x300 with 1 Axes>"
      ]
     },
     "metadata": {},
     "output_type": "display_data"
    }
   ],
   "source": [
    "# %matplotlib widget\n",
    "# fdrive = Fdrive(0).cpu().numpy()\n",
    "# fdrive_fft = np.fft.fftshift(np.fft.fft(fdrive))\n",
    "freq = fpmp[0].cpu().numpy() + np.arange(-220, 220 + 1, 1) * FSR.cpu().numpy()\n",
    "# plt.plot(freq*1e-12,np.abs(fdrive_fft))\n",
    "# plt.grid()\n",
    "# plt.show()\n",
    "# plt.close()\n",
    "# find the indice of np.abs(fdrive_fft) which has non zero values and prinf freq[idxs]*1e-12\n",
    "# idxs = np.where(np.abs(fdrive_fft) > 1e-3)\n",
    "# print(idxs,freq[idxs]*1e-12)\n",
    "# %matplotlib widget\n",
    "plt.figure(figsize=(10,3))\n",
    "dint = disp['Dint_sim']*1e-9/(2*np.pi)\n",
    "for idx, dint_ in enumerate(dint):\n",
    "    plt.plot(freq*1e-12,dint_, label='Dint_pmp_{_ii}'.format(_ii=idx))\n",
    "    break\n",
    "plt.ylim(-50,50)\n",
    "plt.xlabel('Frequency (THz)')\n",
    "plt.ylabel('Dispersion (GHz)')\n",
    "plt.grid()\n",
    "plt.legend()\n",
    "plt.show()\n",
    "# plt.close()\n",
    "# %matplotlib inline"
   ]
  },
  {
   "cell_type": "code",
   "execution_count": null,
   "metadata": {},
   "outputs": [],
   "source": [
    "def plot_with_arrows(freq, disp, x_values):\n",
    "    \"\"\"\n",
    "    Plots integrated dispersion with arrows pointing to specified x-values.\n",
    "    \n",
    "    Parameters:\n",
    "    - freq: 1D array of frequency values (x-axis).\n",
    "    - disp: 2D array of dispersion values (y-axis), shape (n_curves, n_points).\n",
    "    - x_values: List of x-values to highlight with arrows.\n",
    "    \"\"\"\n",
    "    plt.figure(figsize=(10, 3))\n",
    "    dint = disp['Dint_sim'] * 1e-9 / (2 * np.pi)\n",
    "    \n",
    "    # Plot the dispersion curves\n",
    "    for idx, dint_ in enumerate(dint):\n",
    "        plt.plot(freq * 1e-12, dint_, label=f'Dint_pmp_{idx}')\n",
    "        break  # Assuming only one curve for now, remove `break` for multiple curves\n",
    "\n",
    "    # Plot the arrows for specified x_values\n",
    "    for x_val in x_values:\n",
    "        # Find the closest x in the frequency array\n",
    "        closest_idx = np.argmin(np.abs(freq * 1e-12 - x_val))\n",
    "        closest_x = freq[closest_idx] * 1e-12\n",
    "        closest_y = dint_[closest_idx]\n",
    "\n",
    "        # Plot an arrow pointing to the closest point\n",
    "        plt.annotate(\n",
    "            f\"{closest_x:.2f} THz\",\n",
    "            xy=(closest_x, closest_y),\n",
    "            xytext=(closest_x + 10, closest_y + 10),  # Adjust for arrow placement\n",
    "            arrowprops=dict(facecolor='black', arrowstyle=\"->\"),\n",
    "            fontsize=10,\n",
    "        )\n",
    "    \n",
    "    # Add plot details\n",
    "    plt.ylim(-50, 50)\n",
    "    plt.xlabel('Frequency (THz)')\n",
    "    plt.ylabel('Dispersion (GHz)')\n",
    "    plt.grid()\n",
    "    plt.legend()\n",
    "    plt.show()\n",
    "\n",
    "x_val = [283]\n",
    "plot_with_arrows(freq, disp, x_val)"
   ]
  },
  {
   "cell_type": "code",
   "execution_count": null,
   "metadata": {},
   "outputs": [],
   "source": [
    "\n",
    "closest_idx = np.argmin(np.abs(freq * 1e-12 - x_val))\n",
    "closest_x = freq[closest_idx] * 1e-12\n",
    "closest_y = dint_[closest_idx]"
   ]
  },
  {
   "cell_type": "code",
   "execution_count": 22,
   "metadata": {},
   "outputs": [
    {
     "data": {
      "text/plain": [
       "[<matplotlib.lines.Line2D at 0x7ff6c874b340>]"
      ]
     },
     "execution_count": 22,
     "metadata": {},
     "output_type": "execute_result"
    },
    {
     "data": {
      "image/png": "[encoded data removed]",
      "text/plain": [
       "<Figure size 640x480 with 1 Axes>"
      ]
     },
     "metadata": {},
     "output_type": "display_data"
    }
   ],
   "source": [
    "x = FSR + disp['Dint_sim'][0]/(2*np.pi)\n",
    "plt.plot(x.cpu().numpy())"
   ]
  },
  {
   "cell_type": "code",
   "execution_count": 25,
   "metadata": {},
   "outputs": [
    {
     "name": "stdout",
     "output_type": "stream",
     "text": [
      "Best fit parameters: D2 = -0.5627954731780818 e9 Hz, D3 = 1.6883862569461703 e9 Hz\n",
      "Fit error: [ 9.62575596 28.87726788]\n"
     ]
    }
   ],
   "source": [
    "import numpy as np\n",
    "from scipy.optimize import curve_fit\n",
    "\n",
    "# Define the model function\n",
    "def model(mu, D2, D3):\n",
    "    return (mu**2 * D2 / 2) + (mu**2 * D3 / 6)\n",
    "\n",
    "# Example data\n",
    "freq_x = freq * 1e-9  # Replace with your frequency data if needed\n",
    "Dint_y = disp['Dint_sim'][0] * 1e-9  # Replace with your Dint data\n",
    "mu = np.arange(-220, 221, 1)  # Replace with your mu values\n",
    "\n",
    "# Fit the model to the data\n",
    "popt, pcov = curve_fit(model, freq_x, Dint_y)\n",
    "\n",
    "# Extract the best fit parameters\n",
    "D2_best, D3_best = popt\n",
    "\n",
    "print(f\"Best fit parameters: D2 = {D2_best} e9 Hz, D3 = {D3_best} e9 Hz\")\n",
    "# print fit error\n",
    "print('Fit error:', np.sqrt(np.diag(pcov)))"
   ]
  },
  {
   "cell_type": "code",
   "execution_count": 15,
   "metadata": {},
   "outputs": [
    {
     "name": "stderr",
     "output_type": "stream",
     "text": [
      "100%|█████████████████████████████████████████████████████████████████████████| 700000/700000 [06:33<00:00, 1781.00it/s]\n"
     ]
    }
   ],
   "source": [
    "name = 'SSFM_half_datav2.mat'\n",
    "MainSolver(Nt, saved_data, u0,name)"
   ]
  },
  {
   "cell_type": "code",
   "execution_count": 18,
   "metadata": {},
   "outputs": [],
   "source": [
    "import matplotlib.pyplot as plt\n",
    "from scipy.io import loadmat\n",
    "import numpy as np\n",
    "data = loadmat(name)\n",
    "u_probe = data['u_probe']\n",
    "\n",
    "# plt.figure(figsize=(10,3))\n",
    "# plt.imshow(np.abs(u_probe).T, aspect='auto',cmap='jet')\n",
    "# plt.colorbar()\n",
    "# plt.show()\n",
    "\n",
    "driving_force = data['driving_force']\n",
    "detuning = data['detuning'].T\n",
    "kext = data['kappa_ext']\n",
    "alpha = data['alpha']\n",
    "k0 = data['kappa_0']\n",
    "t_sim = data['t_sim'].T\n",
    "\n",
    "Awg = np.zeros_like(u_probe, dtype=np.complex128)\n",
    "Ewg = np.zeros_like(u_probe, dtype=np.complex128)\n",
    "Acav = np.zeros_like(u_probe, dtype=np.complex128)\n",
    "Ecav = np.zeros_like(u_probe, dtype=np.complex128)\n",
    "\n",
    "wg = driving_force * np.sqrt(1-kext)\n",
    "cav = np.sqrt(kext)*u_probe*np.exp(1j*np.pi)\n",
    "\n",
    "Awg = (wg+cav)/np.sqrt(u_probe.shape[1])\n",
    "Acav = np.sqrt(alpha/2)*u_probe*np.exp(1j*np.pi)/np.sqrt(u_probe.shape[1])\n",
    "\n",
    "Ewg = np.fft.fftshift(np.fft.fft(Awg, axis=1),axes=1)/np.sqrt(u_probe.shape[1]) + 1e-12\n",
    "Ecav = np.fft.fftshift(np.fft.fft(Acav, axis=1),axes=1)/np.sqrt(u_probe.shape[1])\n",
    "\n",
    "Pcomb = np.sum(np.abs(Ecav)**2, axis=1) - np.abs(Ecav[:,220])**2\n",
    "Pwg = np.sum(np.abs(Ewg)**2, axis=1)\n",
    "Pcav = np.sum(np.abs(Ecav)**2, axis=1)\n",
    "detuning_gHz = detuning*1e-9/(2*np.pi)\n",
    "tr = 1e12/(2*np.pi*disp['FSR'][0])\n",
    "modes = np.arange(-(len(Ecav[0])-1)//2, len(Ecav[0])//2 +1, 1)"
   ]
  },
  {
   "cell_type": "code",
   "execution_count": null,
   "metadata": {},
   "outputs": [],
   "source": [
    "def plot_comb_power(ax, idx, xaxis='freq'):\n",
    "    \"\"\"\n",
    "    Plot the frequency comb power on the provided axis.\n",
    "    \"\"\"\n",
    "    if xaxis == 'modes':\n",
    "        x = np.arange(-(len(Ecav[idx])-1)//2, len(Ecav[idx])//2 + 1, 1)\n",
    "        ax.set_xlabel('Comb Line Number')\n",
    "    elif xaxis == 'freq':\n",
    "        x = fpmp[0].cpu().numpy() + np.arange(-(len(Ecav[idx])-1)//2, len(Ecav[idx])//2 + 1, 1) * FSR.cpu().numpy()\n",
    "        x = x * 1e-12\n",
    "        ax.set_xlabel('Frequency (THz)')\n",
    "    x_ = np.zeros(x.size * 3)\n",
    "    x_[::3] = x\n",
    "    x_[1::3] = x\n",
    "    x_[2::3] = x\n",
    "    x = x_\n",
    "\n",
    "    y = 10 * np.log10(np.abs(Ewg[idx])**2) + 30\n",
    "    y_ = np.zeros(y.size * 3)\n",
    "    floor = -60\n",
    "    y_[::3] = floor\n",
    "    y_[1::3] = y\n",
    "    y_[2::3] = floor\n",
    "    y = y_\n",
    "\n",
    "    # ax.scatter(x, y, color='k')\n",
    "    ax.vlines(x[::3], ymin=floor, ymax=y[1::3],  linestyles='-')\n",
    "    # set ylim\n",
    "    ax.set_ylim(-100, 20)\n",
    "    # ax.set_xlim(80, 470)\n",
    "    ax.set_ylabel('Power (dBm)')\n",
    "    ax.grid()\n",
    "\n",
    "def plot_soliton_time(ax, idx):\n",
    "    \"\"\"\n",
    "    Plot the soliton time-domain power on the provided axis.\n",
    "    \"\"\"\n",
    "    tr = tR.cpu().numpy()\n",
    "    t = np.linspace(-tr/2, tr/2, len(Ecav[idx])) * 1e12\n",
    "    ax.plot(t, 1000*np.abs(Acav[idx])**2)\n",
    "    ax.set_xlabel(r'$t_R$ (ps)',fontsize=12)\n",
    "    ax.set_ylabel('Power (mW)')\n",
    "    ax.grid()\n",
    "\n",
    "def plot_intracavity_power(ax, idx):\n",
    "    \"\"\"\n",
    "    Plot the intracavity power.\n",
    "    \"\"\"\n",
    "    ax.plot(Pcomb*1e3)\n",
    "    ax.axvline(x=idx, color='r', linestyle='--')\n",
    "    ax.set_xlabel('Detuning (GHz)')\n",
    "    ax.set_ylabel('Power (mW)')\n",
    "    ax.grid()\n",
    "\n",
    "def plot_autocorr_interactive(ax,idx):\n",
    "    tr = tR.cpu().numpy()\n",
    "    s = np.abs(Acav[idx])/np.max(np.abs(Acav[idx]))\n",
    "    autocorr = np.correlate(s**2, s**2, mode='same')\n",
    "    t = np.linspace(-tr/2, tr/2, len(autocorr)) * 1e12\n",
    "    # Find the peak and baseline for contrast ratio\n",
    "    peak_value = np.max(autocorr)  # Peak is normalized to 1\n",
    "    baseline = np.min(autocorr)  # Assuming baseline is the minimum value\n",
    "    contrast_ratio = peak_value / baseline  # Contrast ratio\n",
    "    \n",
    "    # Find FWHM for pulse duration\n",
    "    half_max = 0.5  # Half-maximum for FWHM calculation\n",
    "    above_half_max = np.where(autocorr >= half_max)[0]  # Indices where autocorr is above half-maximum\n",
    "    fwhm_indices = above_half_max[-1] - above_half_max[0]  # FWHM width in number of points\n",
    "    fwhm_time = (t[1] - t[0]) * fwhm_indices  # FWHM time in ps\n",
    "\n",
    "    # # Scaling factor for Gaussian and sech^2 pulses\n",
    "    # # scaling_factor_gaussian = 0.707\n",
    "    scaling_factor_sech2 = 0.648\n",
    "    # # pulse_duration_gaussian = fwhm_time * scaling_factor_gaussian\n",
    "    pulse_duration_sech2 = fwhm_time * scaling_factor_sech2\n",
    "\n",
    "    \n",
    "    # freq = np.fft.fftshift(np.fft.fftfreq(len(autocorr), d=t[1]-t[0]))\n",
    "    # autocorr_fft = np.fft.fftshift(np.fft.fft(autocorr))\n",
    "    ax.plot(t, autocorr)\n",
    "    ax.set_xlabel('Time (ps)')\n",
    "    ax.set_ylabel('Autocorrelation')\n",
    "    # set yticks in scientific notation\n",
    "    ax.ticklabel_format(axis='y', style='sci', scilimits=(0,0))\n",
    "    ax.grid()\n",
    "    ax.text(0.7, 0.5, f\"Contrast Ratio: {contrast_ratio:.2f}\\nFWHM: {fwhm_time:.2f} ps\\nPulse Duration: {pulse_duration_sech2:.2f} ps\", fontsize=12)\n",
    "\n",
    "def interactive_plot(idx):\n",
    "    \"\"\"\n",
    "    Create an interactive plot with 3 rows for imshow, frequency comb, and soliton time plots.\n",
    "    \"\"\"\n",
    "    fig, axs = plt.subplots(5, 1, figsize=(14, 12), gridspec_kw={'height_ratios': [1, 1, 1, 1, 1]})\n",
    "\n",
    "    # Imshow plot\n",
    "    im = axs[0].imshow(np.abs(Acav).T, aspect='auto', cmap='jet', origin='lower')\n",
    "    axs[0].axvline(x=idx, color='r', linestyle='--')  # Highlight the current idx\n",
    "    axs[0].set_xlabel('LLE Subsampled step')\n",
    "    axs[0].set_ylabel(r\"$t_R$ (ps)\")\n",
    "    axs[0].set_title(\"Intensity Distribution\")\n",
    "    # plt.colorbar(im, ax=axs[0],  pad=0.2, label='Intensity')\n",
    "    plot_intracavity_power(axs[1], idx)\n",
    "    # Frequency comb plot\n",
    "    plot_comb_power(axs[2], idx, xaxis='freq')\n",
    "\n",
    "    # Soliton time-domain plot\n",
    "    plot_soliton_time(axs[3], idx)\n",
    "\n",
    "    # Autocorrelation plot\n",
    "    plot_autocorr_interactive(axs[4], idx)\n",
    "\n",
    "    plt.tight_layout()\n",
    "    plt.show()\n",
    "    # plt.close()\n",
    "\n",
    "# get image width\n",
    "image_width = '1200px'\n",
    "# Create a slider widget\n",
    "slider = widgets.IntSlider(\n",
    "    value=1000,  # Default value\n",
    "    min=0,    # Minimum value (start of idx range)\n",
    "    max=len(Ecav) - 1,  # Maximum value (end of idx range)\n",
    "    step=1,   # Step size\n",
    "    description='Step',\n",
    "    continuous_update=False,  # Update only when sliding stops,\n",
    "    layout=widgets.Layout(width=image_width) \n",
    "\n",
    ")\n",
    "\n",
    "# Use ipywidgets to make the plots interactive\n",
    "x = interact(interactive_plot, idx=slider)\n"
   ]
  },
  {
   "cell_type": "code",
   "execution_count": null,
   "metadata": {},
   "outputs": [],
   "source": [
    "# myDKS_init = dict()\n",
    "# myDKS_init['DKS_init'] = u_probe[4478]\n",
    "# myDKS_init['detuning'] = detuning[4478]\n",
    "# savemat('My_DKS_init_multi_broad.mat', myDKS_init)"
   ]
  },
  {
   "cell_type": "code",
   "execution_count": null,
   "metadata": {},
   "outputs": [],
   "source": [
    "dks_init = dict()\n",
    "idx=0\n",
    "dks_init['DKS_init'] = u_probe[idx]\n",
    "dks_init['detuning'] = detuning[idx]\n",
    "dks_init['detuning_end'] = detuning[-1]\n",
    "savemat('My_DKS_init_a3c.mat', dks_init)"
   ]
  },
  {
   "cell_type": "code",
   "execution_count": null,
   "metadata": {},
   "outputs": [],
   "source": [
    "plt.plot(np.abs(u_probe[0]))"
   ]
  },
  {
   "cell_type": "code",
   "execution_count": null,
   "metadata": {},
   "outputs": [],
   "source": [
    "desired_spec = dict()\n",
    "idx = 6200\n",
    "desired_spec['Acav'] = Acav[idx]\n",
    "desired_spec['Ecav'] = Ecav[idx]\n",
    "desired_spec['detuning'] = detuning[idx]\n",
    "savemat('desired_spec.mat', desired_spec)"
   ]
  },
  {
   "cell_type": "code",
   "execution_count": null,
   "metadata": {},
   "outputs": [],
   "source": [
    "plt.figure(figsize=(14,3))\n",
    "plt.imshow(np.abs(Acav).T, aspect='auto', cmap='jet', origin='lower')\n",
    "plt.xlabel('LLE Subsampled step', fontsize=14)\n",
    "plt.ylabel(r\"$t_R$ (ps)\", fontsize=14)\n",
    "plt.colorbar()\n",
    "plt.show()\n",
    "# %%"
   ]
  },
  {
   "cell_type": "code",
   "execution_count": null,
   "metadata": {},
   "outputs": [],
   "source": [
    "plt.figure(figsize=(10,3))\n",
    "plt.imshow(np.abs(Ecav).T, aspect='auto', cmap='jet')#, extent=[detuning_gHz[0], detuning_gHz[-1],modes[0], modes[-1]]\n",
    "plt.colorbar()\n",
    "plt.xlabel('Detuning (GHz)', fontsize=14)\n",
    "plt.ylabel(r\"$\\mu$\", fontsize=14)\n",
    "plt.show()\n",
    "# %%"
   ]
  },
  {
   "cell_type": "code",
   "execution_count": 22,
   "metadata": {},
   "outputs": [
    {
     "data": {
      "image/png": "[encoded data removed]",
      "text/plain": [
       "<Figure size 1000x300 with 1 Axes>"
      ]
     },
     "metadata": {},
     "output_type": "display_data"
    }
   ],
   "source": [
    "plt.figure(figsize=(10,3))\n",
    "# plt.plot(Pcomb*1e3)\n",
    "plt.plot(detuning*1e-9/(2*np.pi), np.flip(Pcomb)*1e3)\n",
    "plt.xlabel('Detuning (GHz)')\n",
    "plt.ylabel('Power (mW)')\n",
    "plt.grid()\n",
    "plt.show()\n",
    "# %%"
   ]
  },
  {
   "cell_type": "code",
   "execution_count": 57,
   "metadata": {},
   "outputs": [],
   "source": [
    "from numba import njit, prange"
   ]
  },
  {
   "cell_type": "code",
   "execution_count": 58,
   "metadata": {},
   "outputs": [],
   "source": [
    "@njit(fastmath=True)\n",
    "def euclidean_distance(x, y):\n",
    "    return np.abs(x - y)\n",
    "\n",
    "@njit(fastmath=True)\n",
    "def dtw_cost_matrix(x, y, radius):\n",
    "    \"\"\"Computes DTW cost matrix using a windowed approach for efficiency.\"\"\"\n",
    "    n, m = len(x), len(y)\n",
    "    cost_matrix = np.full((n + 1, m + 1), np.inf, dtype=np.float64)\n",
    "    cost_matrix[0, 0] = 0\n",
    "\n",
    "    for i in prange(1, n + 1):  # Parallelizing outer loop\n",
    "        start_j = max(1, i - radius)\n",
    "        end_j = min(m + 1, i + radius + 1)\n",
    "\n",
    "        for j in range(start_j, end_j):\n",
    "            cost = euclidean_distance(x[i - 1], y[j - 1])\n",
    "            cost_matrix[i, j] = cost + min(\n",
    "                cost_matrix[i - 1, j],  # Insertion\n",
    "                cost_matrix[i, j - 1],  # Deletion\n",
    "                cost_matrix[i - 1, j - 1]  # Match\n",
    "            )\n",
    "\n",
    "    return cost_matrix\n",
    "\n",
    "@njit(fastmath=True)\n",
    "def downsample(sequence):\n",
    "    \"\"\"Downsamples a sequence by averaging adjacent elements.\"\"\"\n",
    "    length = len(sequence)\n",
    "    half_size = length // 2\n",
    "\n",
    "    result = np.empty(half_size, dtype=np.float64)\n",
    "    \n",
    "    for i in prange(half_size):\n",
    "        result[i] = (sequence[2 * i] + sequence[2 * i + 1]) / 2\n",
    "\n",
    "    return result\n",
    "\n",
    "@njit(fastmath=True)\n",
    "def fast_dtw(x, y, radius=500):\n",
    "    \"\"\"Computes FastDTW with multi-core acceleration.\"\"\"\n",
    "    if len(x) < radius or len(y) < radius:\n",
    "        return dtw_cost_matrix(x, y, radius)\n",
    "    \n",
    "    # Downsample (coarse resolution)\n",
    "    x_shrink = downsample(x) if len(x) % 2 == 0 else downsample(x[:-1])\n",
    "    y_shrink = downsample(y) if len(y) % 2 == 0 else downsample(y[:-1])\n",
    "\n",
    "    # Recursive call\n",
    "    cost = fast_dtw(x_shrink, y_shrink, radius)\n",
    "\n",
    "    return cost"
   ]
  },
  {
   "cell_type": "code",
   "execution_count": 66,
   "metadata": {},
   "outputs": [],
   "source": [
    "cost_mat = fast_dtw(Pcomb, np.zeros_like(Pcomb),100)"
   ]
  },
  {
   "cell_type": "code",
   "execution_count": 67,
   "metadata": {},
   "outputs": [
    {
     "data": {
      "text/plain": [
       "0.7596084268112256"
      ]
     },
     "execution_count": 67,
     "metadata": {},
     "output_type": "execute_result"
    }
   ],
   "source": [
    "cost_mat[-1,-1]"
   ]
  },
  {
   "cell_type": "code",
   "execution_count": 68,
   "metadata": {},
   "outputs": [
    {
     "data": {
      "image/png": "[encoded data removed]",
      "text/plain": [
       "<Figure size 1000x1000 with 2 Axes>"
      ]
     },
     "metadata": {},
     "output_type": "display_data"
    }
   ],
   "source": [
    "# imshow the cost matrix\n",
    "plt.figure(figsize=(10, 10))\n",
    "plt.imshow(cost_mat, cmap='viridis', origin='lower')\n",
    "plt.colorbar()\n",
    "plt.tight_layout()\n",
    "plt.show()"
   ]
  },
  {
   "cell_type": "code",
   "execution_count": 53,
   "metadata": {},
   "outputs": [
    {
     "data": {
      "text/plain": [
       "array([0.06146089])"
      ]
     },
     "execution_count": 53,
     "metadata": {},
     "output_type": "execute_result"
    }
   ],
   "source": [
    "np.random.normal(loc = np.zeros(1), scale=0.15*np.ones(1), size=(1,))"
   ]
  },
  {
   "cell_type": "code",
   "execution_count": null,
   "metadata": {},
   "outputs": [],
   "source": [
    "# dic = {'Pcomb': Pcomb*1e3}\n",
    "# savemat('Pcomb.mat', dic)\n",
    "Pcomb_old = loadmat('Pcomb.mat')['Pcomb'][0]\n",
    "plt.figure(figsize=(10,3))\n",
    "plt.plot(Pcomb_old/np.max(Pcomb_old), label='Old')\n",
    "plt.plot(Pcomb/np.max(Pcomb), label='New')\n",
    "plt.show()"
   ]
  },
  {
   "cell_type": "code",
   "execution_count": null,
   "metadata": {},
   "outputs": [],
   "source": [
    "np.max(Pcomb_old)"
   ]
  },
  {
   "cell_type": "code",
   "execution_count": 11,
   "metadata": {},
   "outputs": [
    {
     "name": "stdout",
     "output_type": "stream",
     "text": [
      "681.5040243175366\n"
     ]
    }
   ],
   "source": [
    "from fastdtw import fastdtw\n",
    "from scipy.spatial.distance import euclidean\n",
    "# distance, path = fastdtw(Pcomb_old[:,np.newaxis]/np.max(Pcomb_old), Pcomb[:,np.newaxis]/np.max(Pcomb), dist=euclidean)\n",
    "distance, _ = fastdtw(np.random.rand(3000,1), np.random.rand(3000,1), dist=euclidean)\n",
    "print(distance)\n",
    "# print(distance), distance/max(len(Pcomb_old), len(Pcomb))"
   ]
  },
  {
   "cell_type": "code",
   "execution_count": null,
   "metadata": {},
   "outputs": [],
   "source": [
    "def plot_comb_power(idx, xaxis='freq'):\n",
    "    plt.figure(figsize=(18,4))\n",
    "    if xaxis == 'modes':\n",
    "        x = np.arange(-(len(Ecav[idx])-1)//2, len(Ecav[idx])//2 +1, 1)\n",
    "        plt.xlabel('Comb Line Number')\n",
    "    elif xaxis == 'freq':\n",
    "        x = fpmp[0].cpu().numpy() + np.arange(-(len(Ecav[idx])-1)//2, len(Ecav[idx])//2 +1, 1)*FSR.cpu().numpy()\n",
    "        x = x*1e-12\n",
    "        plt.xlabel('Frequency (THz)')\n",
    "    x_ = np.zeros(x.size*3)\n",
    "    x_[::3] = x\n",
    "    x_[1::3] = x\n",
    "    x_[2::3] = x\n",
    "    x = x_\n",
    "\n",
    "    y = 10*np.log10(np.abs(Ecav[idx])**2)+30\n",
    "    y_ = np.zeros(y.size * 3)\n",
    "    floor = -100\n",
    "    y_[::3] = floor\n",
    "    y_[1::3] = y\n",
    "    y_[2::3] = floor\n",
    "    y = y_\n",
    "\n",
    "    \n",
    "    # plt.scatter(x, y, color='k')\n",
    "    # for xx,yy in zip(x, y):\n",
    "    plt.vlines(x[::3], ymin=-100, ymax=y[1::3], colors='k', linestyles='-', alpha=0.7)\n",
    "    \n",
    "    plt.ylabel('Power (dBm)')\n",
    "    plt.grid()\n",
    "    plt.show()\n",
    "\n",
    "# %%\n",
    "plot_comb_power(4398)"
   ]
  },
  {
   "cell_type": "code",
   "execution_count": null,
   "metadata": {},
   "outputs": [],
   "source": [
    "import numpy as np\n",
    "import matplotlib.pyplot as plt\n",
    "import matplotlib.cm as cm\n",
    "\n",
    "def plot_comb_power(idx, xaxis='freq'):\n",
    "    if xaxis == 'modes':\n",
    "        x = np.arange(-(len(Ecav[idx])-1)//2, len(Ecav[idx])//2 + 1, 1)\n",
    "        plt.xlabel('Comb Line Number')\n",
    "    elif xaxis == 'freq':\n",
    "        x = fpmp[0].cpu().numpy() + np.arange(-(len(Ecav[idx])-1)//2, len(Ecav[idx])//2 + 1, 1) * FSR.cpu().numpy()\n",
    "        x = x * 1e-12\n",
    "    \n",
    "    # Preparing x for vertical line plotting\n",
    "    x_ = np.zeros(x.size * 3)\n",
    "    x_[::3] = x\n",
    "    x_[1::3] = x\n",
    "    x_[2::3] = x\n",
    "    x = x_\n",
    "\n",
    "    # Power calculation in dBm\n",
    "    y = 10 * np.log10(np.abs(Ecav[idx])**2) + 30\n",
    "    y_ = np.zeros(y.size * 3)\n",
    "    floor = -100  # Minimum power level\n",
    "    y_[::3] = floor\n",
    "    y_[1::3] = y\n",
    "    y_[2::3] = floor\n",
    "    y = y_\n",
    "\n",
    "    # Create the plot\n",
    "    plt.figure(figsize=(18, 4))\n",
    "    # set dark background\n",
    "    plt.style.use('seaborn-v0_8-white')\n",
    "\n",
    "    # Use a colormap to assign colors\n",
    "    colors = cm.gist_rainbow(np.linspace(0, 1, len(Ecav[idx])))  # Jet colormap\n",
    "    # flip the colors\n",
    "    # colors = colors[::-1]\n",
    "\n",
    "    # Plot each comb line with its respective color\n",
    "    for i in range(len(Ecav[idx])):\n",
    "        plt.vlines(x[3*i], ymin=floor, ymax=y[3*i+1], colors=colors[i], linestyles='-', alpha=1)\n",
    "\n",
    "    # Hide the y-axis\n",
    "    ax = plt.gca()  # Get current axes\n",
    "    ax.yaxis.set_visible(False)  # Hide the y-axis\n",
    "    ax.xaxis.set_visible(False)  # Hide the y-axis\n",
    "    ax.spines['left'].set_visible(False)  # Hide the left spine\n",
    "    ax.spines['right'].set_visible(False)  # Hide the left spine\n",
    "    ax.spines['top'].set_visible(False)  # Hide the left spine\n",
    "    ax.spines['bottom'].set_visible(False)  # Hide the left spine\n",
    "    ax.tick_params(axis='y', which='both', left=False)  # Hide y-axis ticks\n",
    "    \n",
    "    # Plot settings\n",
    "    # plt.grid(axis='x')  # Keep only the grid for x-axis\n",
    "    plt.show()\n",
    "    plt.style.use('default')\n",
    "\n",
    "# %%\n",
    "plot_comb_power(3345)\n"
   ]
  },
  {
   "cell_type": "code",
   "execution_count": null,
   "metadata": {},
   "outputs": [],
   "source": [
    "def plot_soliton_time(idx):\n",
    "    tr = tR.cpu().numpy()\n",
    "    t = np.linspace(-tr/2,tr/2, len(Ecav[idx]))*1e12\n",
    "\n",
    "    plt.figure(figsize=(14,4))\n",
    "    plt.plot(t, np.abs(Acav[idx])**2)\n",
    "    plt.xlabel('Time (ps)')\n",
    "    plt.ylabel('Power (W)')\n",
    "    plt.grid()\n",
    "    plt.show()\n",
    "# %%\n",
    "plot_soliton_time(4000)"
   ]
  },
  {
   "cell_type": "code",
   "execution_count": null,
   "metadata": {},
   "outputs": [],
   "source": [
    "# plot the autocorr of np.abs(Acav[idx])**2\n",
    "def plot_autocorr(idx):\n",
    "    tr = tR.cpu().numpy()\n",
    "    autocorr = np.correlate(np.abs(Acav[idx])**2, np.abs(Acav[idx])**2, mode='full')\n",
    "    t = np.linspace(-tr/2, tr/2, len(autocorr))*1e12\n",
    "    plt.figure(figsize=(14,4))\n",
    "    plt.plot(t, autocorr)\n",
    "    plt.xlabel('Time (ps)')\n",
    "    plt.ylabel('Autocorrelation')\n",
    "    plt.grid()\n",
    "    plt.show()\n",
    "\n",
    "plot_autocorr(1000)"
   ]
  },
  {
   "cell_type": "code",
   "execution_count": null,
   "metadata": {},
   "outputs": [],
   "source": [
    "# function to plot the spectrum of autocorrelation \n",
    "def plot_autocorr_spectrum(idx):\n",
    "    tr = tR.cpu().numpy()\n",
    "    autocorr = np.correlate(np.abs(Acav[idx])**2, np.abs(Acav[idx])**2, mode='full')\n",
    "    t = np.linspace(-tr/2, tr/2, len(autocorr))\n",
    "    freq = np.fft.fftshift(np.fft.fftfreq(len(autocorr), d=t[1]-t[0]))*1e-12\n",
    "    autocorr_fft = np.fft.fftshift(np.fft.fft(autocorr))\n",
    "    plt.figure(figsize=(14,4))\n",
    "    plt.plot(freq, np.abs(autocorr_fft))\n",
    "    plt.xlabel('Frequency (THz)')\n",
    "    plt.ylabel('Power')\n",
    "    plt.grid()\n",
    "    plt.show()\n",
    "\n",
    "plot_autocorr_spectrum(4200)"
   ]
  },
  {
   "cell_type": "code",
   "execution_count": 163,
   "metadata": {},
   "outputs": [],
   "source": [
    "import numpy as np\n",
    "from numba import njit, prange\n",
    "\n",
    "@njit(parallel=True, fastmath=True)\n",
    "def dtw_numba(x, y):\n",
    "    n, m = len(x), len(y)\n",
    "    dtw_matrix = np.full((n + 1, m + 1), np.inf)\n",
    "    dtw_matrix[0, 0] = 0\n",
    "\n",
    "    for i in prange(1, n + 1):\n",
    "        for j in range(1, m + 1):\n",
    "            cost = abs(x[i - 1] - y[j - 1])\n",
    "            dtw_matrix[i, j] = cost + min(\n",
    "                dtw_matrix[i - 1, j],    # Insertion\n",
    "                dtw_matrix[i, j - 1],    # Deletion\n",
    "                dtw_matrix[i - 1, j - 1] # Match\n",
    "            )\n",
    "\n",
    "    return dtw_matrix[n, m]\n",
    "\n",
    "# import numpy as np\n",
    "# from numba import njit, prange\n",
    "\n",
    "@njit(parallel=True, fastmath=True)\n",
    "def dtw_numba_fast(x, y):\n",
    "    n, m = len(x), len(y)\n",
    "    dtw_matrix = np.full((n + 1, m + 1), np.inf, dtype=np.float32)\n",
    "    dtw_matrix[0, 0] = 0.0\n",
    "\n",
    "    for i in prange(1, n + 1):  # Parallelized outer loop\n",
    "        for j in range(1, m + 1):\n",
    "            cost = abs(x[i - 1] - y[j - 1])\n",
    "            dtw_matrix[i, j] = cost + min(\n",
    "                dtw_matrix[i - 1, j], \n",
    "                dtw_matrix[i, j - 1], \n",
    "                dtw_matrix[i - 1, j - 1]\n",
    "            )\n",
    "\n",
    "    return dtw_matrix[n, m]\n",
    "# @njit(parallel=True, fastmath=True)\n",
    "# def dtw_numba_fast(x, y):\n",
    "#     n, m = len(x), len(y)\n",
    "#     dtw_matrix = np.full((n + 1, m + 1), np.inf, dtype=np.float32)\n",
    "#     dtw_matrix[0, 0] = 0.0\n",
    "\n",
    "#     # Compute DTW using parallel loops and loop unrolling\n",
    "#     for i in prange(1, n + 1):  # Parallelized outer loop\n",
    "#         for j in range(1, m + 1):\n",
    "#             cost = abs(x[i - 1] - y[j - 1])\n",
    "#             min_prev = min(dtw_matrix[i - 1, j], dtw_matrix[i, j - 1], dtw_matrix[i - 1, j - 1])\n",
    "#             dtw_matrix[i, j] = cost + min_prev\n",
    "\n",
    "#     return dtw_matrix[n, m]\n"
   ]
  },
  {
   "cell_type": "code",
   "execution_count": 176,
   "metadata": {},
   "outputs": [
    {
     "name": "stdout",
     "output_type": "stream",
     "text": [
      "DTW Distance: inf\n",
      "CPU times: user 189 ms, sys: 14.6 ms, total: 204 ms\n",
      "Wall time: 46.4 ms\n"
     ]
    }
   ],
   "source": [
    "%%time\n",
    "x = 0*np.random.rand(5000).astype(np.float64)\n",
    "y = np.random.rand(5000).astype(np.float64)\n",
    "distance = dtw_numba(x, y)\n",
    "print(\"DTW Distance:\", distance)"
   ]
  },
  {
   "cell_type": "code",
   "execution_count": 179,
   "metadata": {},
   "outputs": [
    {
     "data": {
      "text/plain": [
       "0.24248228572781727"
      ]
     },
     "execution_count": 179,
     "metadata": {},
     "output_type": "execute_result"
    }
   ],
   "source": [
    "from scipy.spatial.distance import directed_hausdorff\n",
    "\n",
    "def frechet_distance(x, y):\n",
    "    x = np.array(x).reshape(-1, 1)\n",
    "    y = np.array(y).reshape(-1, 1)\n",
    "    return max(directed_hausdorff(x, y)[0], directed_hausdorff(y, x)[0])\n",
    "\n",
    "\n",
    "x = np.random.randn(5000)\n",
    "y = np.random.randn(5000)\n",
    "frechet_distance(x, y)"
   ]
  },
  {
   "cell_type": "code",
   "execution_count": null,
   "metadata": {},
   "outputs": [],
   "source": [
    "@njit(parallel=True)\n",
    "def dtw_numba_blockwise(x, y):\n",
    "    \"\"\"\n",
    "    Compute the DTW distance between two 1D numpy arrays using block-wise parallelization.\n",
    "    \"\"\"\n",
    "    N, M = len(x), len(y)\n",
    "    dtw_matrix = np.full((N + 1, M + 1), np.inf, dtype=np.float32)\n",
    "    dtw_matrix[0, 0] = 0  # Initialize boundary condition\n",
    "\n",
    "    # Compute DTW matrix using wavefront parallelism\n",
    "    for diag in range(1, N + M):  # Iterate over diagonals\n",
    "        for i in prange(max(0, diag - M + 1), min(N, diag + 1)):  # Parallel over rows\n",
    "            j = diag - i  # Compute column index\n",
    "            if j < M:\n",
    "                cost = abs(x[i] - y[j])\n",
    "                dtw_matrix[i + 1, j + 1] = cost + min(\n",
    "                    dtw_matrix[i, j + 1],   # Insertion\n",
    "                    dtw_matrix[i + 1, j],   # Deletion\n",
    "                    dtw_matrix[i, j]        # Match\n",
    "                )\n",
    "\n",
    "    return dtw_matrix[N, M]  # Return the final DTW distance\n"
   ]
  },
  {
   "cell_type": "code",
   "execution_count": null,
   "metadata": {},
   "outputs": [],
   "source": [
    "x = np.random.rand(5000).astype(np.float32)\n",
    "y = np.random.rand(5000).astype(np.float32)\n",
    "distance = dtw_numba_blockwise(x, x)\n",
    "print(\"DTW Distance:\", distance)"
   ]
  },
  {
   "cell_type": "code",
   "execution_count": 15,
   "metadata": {},
   "outputs": [],
   "source": [
    "import torch\n",
    "\n",
    "@torch.jit.script\n",
    "def dtw_torch(x: torch.Tensor, y: torch.Tensor) -> torch.Tensor:\n",
    "    \"\"\"\n",
    "    Compute DTW distance between two 1D tensors in PyTorch (JIT-compiled, GPU-accelerated).\n",
    "    \n",
    "    Args:\n",
    "        x: (N,) Tensor - First sequence\n",
    "        y: (M,) Tensor - Second sequence\n",
    "    \n",
    "    Returns:\n",
    "        dtw_distance: Scalar Tensor representing DTW distance\n",
    "    \"\"\"\n",
    "    N, M = x.size(0), y.size(0)\n",
    "    dtw_matrix = torch.full((N + 1, M + 1), float('inf'), device=x.device)\n",
    "    dtw_matrix[0, 0] = 0.0  # Boundary condition\n",
    "\n",
    "    for i in range(N):\n",
    "        for j in range(M):\n",
    "            cost = torch.abs(x[i] - y[j])\n",
    "            dtw_matrix[i + 1, j + 1] = cost + torch.stack([\n",
    "                dtw_matrix[i, j + 1],  # Insertion\n",
    "                dtw_matrix[i + 1, j],  # Deletion\n",
    "                dtw_matrix[i, j]       # Match\n",
    "            ]).min()\n",
    "\n",
    "    return dtw_matrix[N, M]  # Return final DTW distance\n"
   ]
  },
  {
   "cell_type": "code",
   "execution_count": 19,
   "metadata": {},
   "outputs": [],
   "source": [
    "@torch.jit.script\n",
    "def dtw_torch_parallel(x: torch.Tensor, y: torch.Tensor) -> torch.Tensor:\n",
    "    \"\"\"\n",
    "    Compute DTW distance between two 1D tensors in PyTorch (JIT-compiled, GPU-accelerated, parallelized).\n",
    "    \n",
    "    Args:\n",
    "        x: (N,) Tensor - First sequence\n",
    "        y: (M,) Tensor - Second sequence\n",
    "    \n",
    "    Returns:\n",
    "        dtw_distance: Scalar Tensor representing DTW distance\n",
    "    \"\"\"\n",
    "    N, M = x.size(0), y.size(0)\n",
    "    \n",
    "    # Initialize DTW matrix with inf\n",
    "    dtw_matrix = torch.full((N + 1, M + 1), float('inf'), device=x.device)\n",
    "    dtw_matrix[0, 0] = 0.0  # Start condition\n",
    "\n",
    "    # Compute cost matrix (L1 distance between x and y)\n",
    "    cost_matrix = torch.cdist(x.view(-1, 1), y.view(-1, 1), p=1.0)  # ✅ Fixed (p=1.0)\n",
    "\n",
    "    # Compute DTW matrix using dynamic programming\n",
    "    for i in range(1, N + 1):\n",
    "        for j in range(1, M + 1):\n",
    "            dtw_matrix[i, j] = cost_matrix[i - 1, j - 1] + torch.min(\n",
    "                torch.stack([\n",
    "                    dtw_matrix[i - 1, j],  # Insertion\n",
    "                    dtw_matrix[i, j - 1],  # Deletion\n",
    "                    dtw_matrix[i - 1, j - 1]  # Match\n",
    "                ])\n",
    "            )\n",
    "\n",
    "    return dtw_matrix[N, M]  # Return final DTW distance\n"
   ]
  },
  {
   "cell_type": "code",
   "execution_count": 23,
   "metadata": {},
   "outputs": [],
   "source": [
    "x = torch.rand(1000, device=\"cpu\")  # Move to GPU\n",
    "y = torch.rand(1000, device=\"cpu\")\n",
    "\n",
    "# dtw_dist = dtw_torch_parallel(x, y)\n",
    "# print(f\"DTW Distance: {dtw_dist.item()}\")"
   ]
  },
  {
   "cell_type": "code",
   "execution_count": 40,
   "metadata": {},
   "outputs": [
    {
     "data": {
      "text/plain": [
       "array([[1.        , 0.00311076],\n",
       "       [0.00311076, 1.        ]])"
      ]
     },
     "execution_count": 40,
     "metadata": {},
     "output_type": "execute_result"
    }
   ],
   "source": [
    "# concat x and y\n",
    "x,y = np.random.rand(300000), np.random.randn(300000)\n",
    "np.corrcoef(x,y)"
   ]
  },
  {
   "cell_type": "code",
   "execution_count": null,
   "metadata": {},
   "outputs": [],
   "source": [
    "import numpy as np\n",
    "from numba import njit, prange\n",
    "\n",
    "@njit(fastmath=True)\n",
    "def euclidean_distance(x, y):\n",
    "    return np.abs(x - y)\n",
    "\n",
    "@njit(fastmath=True)\n",
    "def dtw_cost_matrix(x, y, radius):\n",
    "    \"\"\"Computes DTW cost matrix using a windowed approach for efficiency.\"\"\"\n",
    "    n, m = len(x), len(y)\n",
    "    cost_matrix = np.full((n + 1, m + 1), np.inf, dtype=np.float64)\n",
    "    cost_matrix[0, 0] = 0\n",
    "\n",
    "    for i in prange(1, n + 1):  # Parallelizing outer loop\n",
    "        start_j = max(1, i - radius)\n",
    "        end_j = min(m + 1, i + radius + 1)\n",
    "\n",
    "        for j in range(start_j, end_j):\n",
    "            cost = euclidean_distance(x[i - 1], y[j - 1])\n",
    "            cost_matrix[i, j] = cost + min(\n",
    "                cost_matrix[i - 1, j],  # Insertion\n",
    "                cost_matrix[i, j - 1],  # Deletion\n",
    "                cost_matrix[i - 1, j - 1]  # Match\n",
    "            )\n",
    "\n",
    "    return cost_matrix[n, m]\n",
    "\n",
    "@njit(fastmath=True)\n",
    "def downsample(sequence):\n",
    "    \"\"\"Downsamples a sequence by averaging adjacent elements.\"\"\"\n",
    "    length = len(sequence)\n",
    "    half_size = length // 2\n",
    "\n",
    "    result = np.empty(half_size, dtype=np.float64)\n",
    "    \n",
    "    for i in prange(half_size):\n",
    "        result[i] = (sequence[2 * i] + sequence[2 * i + 1]) / 2\n",
    "\n",
    "    return result\n",
    "\n",
    "@njit(fastmath=True)\n",
    "def fast_dtw(x, y, radius=10):\n",
    "    \"\"\"Computes FastDTW with multi-core acceleration.\"\"\"\n",
    "    if len(x) < radius or len(y) < radius:\n",
    "        return dtw_cost_matrix(x, y, radius)\n",
    "    \n",
    "    # Downsample (coarse resolution)\n",
    "    x_shrink = downsample(x) if len(x) % 2 == 0 else downsample(x[:-1])\n",
    "    y_shrink = downsample(y) if len(y) % 2 == 0 else downsample(y[:-1])\n",
    "\n",
    "    # Recursive call\n",
    "    cost = fast_dtw(x_shrink, y_shrink, radius)\n",
    "\n",
    "    return cost"
   ]
  },
  {
   "cell_type": "code",
   "execution_count": 31,
   "metadata": {},
   "outputs": [],
   "source": [
    "x = np.random.rand(5000)\n",
    "y = np.random.randn(5000)"
   ]
  },
  {
   "cell_type": "code",
   "execution_count": 44,
   "metadata": {},
   "outputs": [
    {
     "name": "stdout",
     "output_type": "stream",
     "text": [
      "CPU times: user 202 µs, sys: 5 µs, total: 207 µs\n",
      "Wall time: 209 µs\n"
     ]
    }
   ],
   "source": [
    "%%time\n",
    "distance = fast_dtw(x, y, radius=200)\n",
    "# print(\"FastDTW Distance:\", distance)"
   ]
  },
  {
   "cell_type": "code",
   "execution_count": 45,
   "metadata": {},
   "outputs": [
    {
     "data": {
      "text/plain": [
       "78.44940115583694"
      ]
     },
     "execution_count": 45,
     "metadata": {},
     "output_type": "execute_result"
    }
   ],
   "source": [
    "distance"
   ]
  }
 ],
 "metadata": {
  "kernelspec": {
   "display_name": "my_env",
   "language": "python",
   "name": "python3"
  },
  "language_info": {
   "codemirror_mode": {
    "name": "ipython",
    "version": 3
   },
   "file_extension": ".py",
   "mimetype": "text/x-python",
   "name": "python",
   "nbconvert_exporter": "python",
   "pygments_lexer": "ipython3",
   "version": "3.9.21"
  }
 },
 "nbformat": 4,
 "nbformat_minor": 2
}
